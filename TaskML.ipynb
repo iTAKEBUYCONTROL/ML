{
  "nbformat": 4,
  "nbformat_minor": 0,
  "metadata": {
    "colab": {
      "provenance": [],
      "gpuType": "T4"
    },
    "kernelspec": {
      "name": "python3",
      "display_name": "Python 3"
    },
    "language_info": {
      "name": "python"
    },
    "accelerator": "GPU"
  },
  "cells": [
    {
      "cell_type": "code",
      "execution_count": null,
      "metadata": {
        "id": "UjHFZepCn3X2"
      },
      "outputs": [],
      "source": [
        "from keras import layers\n",
        "from keras import regularizers\n",
        "from keras import backend as K\n",
        "from keras.models import Model\n",
        "from tensorflow.keras.utils import to_categorical\n",
        "\n",
        "from tensorflow import keras\n",
        "from tensorflow.keras.optimizers import Adam\n",
        "from tensorflow.keras.models import Sequential, load_model\n",
        "from tensorflow.keras.callbacks import EarlyStopping, ModelCheckpoint\n",
        "from tensorflow.keras.preprocessing.image import ImageDataGenerator\n",
        "from tensorflow.keras.layers import Conv2D, MaxPool2D, MaxPooling2D, Flatten, Dense, Dropout, Input, concatenate, Activation, Lambda, BatchNormalization\n",
        "\n",
        "import os\n",
        "import cv2\n",
        "import keras\n",
        "import joblib\n",
        "import numpy as np\n",
        "import tensorflow as tf\n",
        "from sklearn.utils import shuffle\n",
        "\n",
        "from os import listdir\n",
        "# from google.colab import files\n",
        "from matplotlib import pyplot as plt\n",
        "from google.colab.patches import cv2_imshow"
      ]
    },
    {
      "cell_type": "code",
      "source": [
        "from google.colab import drive\n",
        "drive.mount('/content/gdrive')"
      ],
      "metadata": {
        "colab": {
          "base_uri": "https://localhost:8080/"
        },
        "id": "daU-Jp4hoOEa",
        "outputId": "9bc6d585-19b7-4e69-cc01-0be1df8ad32f"
      },
      "execution_count": null,
      "outputs": [
        {
          "output_type": "stream",
          "name": "stdout",
          "text": [
            "Drive already mounted at /content/gdrive; to attempt to forcibly remount, call drive.mount(\"/content/gdrive\", force_remount=True).\n"
          ]
        }
      ]
    },
    {
      "cell_type": "markdown",
      "source": [
        "**Подготовка данных**"
      ],
      "metadata": {
        "id": "6tPT4tL-potb"
      }
    },
    {
      "cell_type": "code",
      "source": [
        "folder_path_train = '/content/gdrive/MyDrive/Colab Notebooks/ML/tpha'\n",
        "folder_path_test = '/content/gdrive/MyDrive/Colab Notebooks/ML/test'\n",
        "\n",
        "files_train = os.listdir(folder_path_train)\n",
        "files_train = list(map(int, files_train))\n",
        "files_train = sorted(files_train)\n",
        "\n",
        "x_train_img = []\n",
        "x_test_img = []\n",
        "\n",
        "for i in range(len(files_train)):#по папкам (1,2...10)\n",
        "\n",
        "    path_train = folder_path_train + \"/\" + str(files_train[i])\n",
        "    path_test = folder_path_test + \"/\" + str(files_train[i])\n",
        "\n",
        "    x_train = []\n",
        "    x_test = []\n",
        "\n",
        "    ################################################--->train data\n",
        "    for image in os.listdir(path_train):\n",
        "\n",
        "        img = cv2.imread(path_train + \"/\" + image)\n",
        "        img = cv2.resize(img, (224, 224))\n",
        "        img = cv2.cvtColor(img, cv2.COLOR_BGR2RGB)\n",
        "\n",
        "        np_img = np.array(img)\n",
        "        x_train.append(np_img)\n",
        "\n",
        "    x_train_img.append(x_train)\n",
        "\n",
        "    ################################################--->test data\n",
        "    for image1 in os.listdir(path_test):\n",
        "\n",
        "        img1 = cv2.imread(path_test + \"/\" + image1)\n",
        "        img1 = cv2.resize(img1, (224, 224))\n",
        "        img1 = cv2.cvtColor(img1, cv2.COLOR_BGR2RGB)\n",
        "\n",
        "        np_img1 = np.array(img1)\n",
        "        x_test.append(np_img1)\n",
        "\n",
        "    x_test_img.append(x_test)\n",
        "\n",
        "\n",
        "\n",
        "#x_train_img = np.array(x_train_img)\n",
        "#print(x_train_img.shape())\n",
        "# x_train_img = x_train_img / 255\n",
        "#print(x_train_img)"
      ],
      "metadata": {
        "id": "MgLxPAsPpmj3"
      },
      "execution_count": null,
      "outputs": []
    },
    {
      "cell_type": "code",
      "source": [
        "import random\n",
        "\n",
        "def to_grey(image):\n",
        "    image = np.array(image)\n",
        "\n",
        "    for i in range(len(image)):\n",
        "        for j in range(len(image[i])):\n",
        "            k_first = image[i][j][0]\n",
        "            for k in range(len(image[i][j])):\n",
        "                image[i][j][k] = k_first\n",
        "\n",
        "    #converted_img /= 255\n",
        "    return image\n",
        "\n",
        "# def multiple_preprocessing_function(image):\n",
        "#     arr = [None, 'to_grey']\n",
        "#     random_number = random.randint(0, 1)\n",
        "\n",
        "#     if random_number == 1:\n",
        "#         image = to_grey(image)\n",
        "#     return image"
      ],
      "metadata": {
        "id": "hxlVefLO3qnq"
      },
      "execution_count": null,
      "outputs": []
    },
    {
      "cell_type": "code",
      "source": [
        "datagen_ = ImageDataGenerator(brightness_range=(0.8, 1.2),\n",
        "                               fill_mode='nearest')\n",
        "datagen = ImageDataGenerator(preprocessing_function=to_grey,\n",
        "                              fill_mode='nearest')\n",
        "# datagen = ImageDataGenerator(\n",
        "#     #rotation_range=10,  # Вращение на 10 градусов\n",
        "#     width_shift_range=0.1,  # Сдвиг по горизонтали на 10% ширины\n",
        "#     height_shift_range=0.1,  # Сдвиг по вертикали на 10% высоты\n",
        "#     #shear_range=0.1,  # Искажение изображения по горизонтали\n",
        "#     #brightness_range=(0.5, 1.5),\n",
        "#     #channel_shift_range=0.6,\n",
        "#     preprocessing_function=multiple_preprocessing_function,\n",
        "#     #zoom_range=[1.1, 2],  # Увеличение или уменьшение масштаба на 20%\n",
        "#     # horizontal_flip=True,  # Отражение изображения по горизонтали\n",
        "#     fill_mode='nearest'  # Режим заполнения пикселей после преобразований\n",
        "# )"
      ],
      "metadata": {
        "id": "owGEDwEv3wkM"
      },
      "execution_count": null,
      "outputs": []
    },
    {
      "cell_type": "code",
      "source": [
        "augmented_images = []\n",
        "pictures_needed = 500\n",
        "\n",
        "for i in range(len(x_train_img)):\n",
        "    images_in_one_folder = x_train_img[i]#берем одну папку с изображениями\n",
        "    num_of_imgs = len(x_train_img[i])\n",
        "    print(num_of_imgs)\n",
        "\n",
        "    while len(x_train_img[i]) < pictures_needed:\n",
        "        random_num = random.randint(0, num_of_imgs - 1)#выбираем рандомное изображение\n",
        "        img = images_in_one_folder[random_num]#выбираем рандомное изображение для аугментации\n",
        "        img = img.reshape((1,) + img.shape)\n",
        "        # print(img.shape)\n",
        "        # augmented_images.append(img)\n",
        "\n",
        "        rand_aug = random.randint(0, 1)\n",
        "        if rand_aug == 0:\n",
        "            for batch in datagen.flow(img, batch_size=1):  # Создаем поток аугментированных изображений\n",
        "                # augmented_images.append(batch)\n",
        "                batch = batch.squeeze()\n",
        "                x_train_img[i].append(batch)\n",
        "                break\n",
        "                # if len(augmented_images) >= 1:\n",
        "                #     break\n",
        "        else:\n",
        "            for batch in datagen_.flow(img, batch_size=1):  # Создаем поток аугментированных изображений\n",
        "                # augmented_images.append(batch)\n",
        "                batch = batch.squeeze()\n",
        "                x_train_img[i].append(batch)\n",
        "                break\n",
        "                # if len(augmented_images) >= 1:\n",
        "                #     break\n",
        "\n",
        "\n",
        "        # break\n",
        "\n"
      ],
      "metadata": {
        "colab": {
          "base_uri": "https://localhost:8080/"
        },
        "id": "c5kDKFOS4q7h",
        "outputId": "ba06aa69-5c07-4af8-c759-69e6c38d93b2"
      },
      "execution_count": null,
      "outputs": [
        {
          "output_type": "stream",
          "name": "stdout",
          "text": [
            "395\n",
            "175\n",
            "74\n",
            "115\n",
            "90\n",
            "104\n",
            "93\n",
            "84\n",
            "105\n",
            "88\n"
          ]
        }
      ]
    },
    {
      "cell_type": "code",
      "source": [
        "x_train_img = np.array(x_train_img)\n",
        "x_test_img = np.array(x_test_img)\n",
        "print(x_train_img.shape)\n",
        "print(x_test_img.shape)\n",
        "x_train_img = x_train_img / 255\n",
        "x_test_img = x_test_img / 255\n",
        "# print(x_train_img)"
      ],
      "metadata": {
        "colab": {
          "base_uri": "https://localhost:8080/"
        },
        "id": "aPbTEyDSEJt4",
        "outputId": "44d571b6-3da0-4f9d-c103-3e26c1015d60"
      },
      "execution_count": null,
      "outputs": [
        {
          "output_type": "stream",
          "name": "stdout",
          "text": [
            "(10, 500, 224, 224, 3)\n",
            "(10, 4, 224, 224, 3)\n"
          ]
        }
      ]
    },
    {
      "cell_type": "code",
      "source": [
        "y_train_img = []\n",
        "y_test_img = []\n",
        "\n",
        "for i in range(len(x_train_img)):\n",
        "    y_train = []\n",
        "    for j in range(len(x_train_img[i])):\n",
        "        y_train.append(i)\n",
        "    y_train_img.append(y_train)\n",
        "\n",
        "for i in range(len(x_test_img)):\n",
        "    y_test = []\n",
        "    for j in range(len(x_test_img[i])):\n",
        "        y_test.append(i)\n",
        "    y_test_img.append(y_test)\n",
        "\n",
        "y_train_img = np.array(y_train_img)\n",
        "y_test_img = np.array(y_test_img)\n",
        "print(y_train_img.shape)\n",
        "print(y_test_img.shape)\n",
        "\n",
        "# Соединяем все \"куски\" массива по первой оси\n",
        "x_train_img = np.concatenate(x_train_img, axis=0)\n",
        "y_train_img = np.concatenate(y_train_img, axis=0)\n",
        "\n",
        "x_test_img = np.concatenate(x_test_img, axis=0)\n",
        "y_test_img = np.concatenate(y_test_img, axis=0)\n",
        "# print(x_train_img.shape)\n",
        "# print(y_train_img.shape)\n"
      ],
      "metadata": {
        "colab": {
          "base_uri": "https://localhost:8080/"
        },
        "id": "YZ0mWDURMC-h",
        "outputId": "07c8a492-b2ad-4b5d-85a8-3d43a3fb7e34"
      },
      "execution_count": null,
      "outputs": [
        {
          "output_type": "stream",
          "name": "stdout",
          "text": [
            "(10, 500)\n",
            "(10, 4)\n"
          ]
        }
      ]
    },
    {
      "cell_type": "code",
      "source": [
        "y_train_img = to_categorical(y_train_img, num_classes=10)\n",
        "y_test_img = to_categorical(y_test_img, num_classes=10)\n",
        "print(y_train_img[4999])\n",
        "print(y_train_img[39])"
      ],
      "metadata": {
        "colab": {
          "base_uri": "https://localhost:8080/"
        },
        "id": "ZCUgjpnzQOfN",
        "outputId": "791dcddd-6b61-4807-87be-b8e7564e7ff8"
      },
      "execution_count": null,
      "outputs": [
        {
          "output_type": "stream",
          "name": "stdout",
          "text": [
            "[0. 0. 0. 0. 0. 0. 0. 0. 0. 1.]\n",
            "[1. 0. 0. 0. 0. 0. 0. 0. 0. 0.]\n"
          ]
        }
      ]
    },
    {
      "cell_type": "code",
      "source": [
        "#shuffle\n",
        "x_train_img, y_train_img = shuffle(x_train_img, y_train_img, random_state=42)\n",
        "x_test_img, y_test_img = shuffle(x_test_img, y_test_img, random_state=12)"
      ],
      "metadata": {
        "id": "Gd8ku73IU2Bk"
      },
      "execution_count": null,
      "outputs": []
    },
    {
      "cell_type": "code",
      "source": [
        "print(x_train_img.shape)\n",
        "print(y_train_img.shape)\n",
        "print(x_test_img.shape)\n",
        "print(y_test_img.shape)"
      ],
      "metadata": {
        "colab": {
          "base_uri": "https://localhost:8080/"
        },
        "id": "EBe_w_gkP8Bd",
        "outputId": "69337f09-8371-49ac-f822-28947a47a6b5"
      },
      "execution_count": null,
      "outputs": [
        {
          "output_type": "stream",
          "name": "stdout",
          "text": [
            "(5000, 224, 224, 3)\n",
            "(5000, 10)\n",
            "(40, 224, 224, 3)\n",
            "(40, 10)\n"
          ]
        }
      ]
    },
    {
      "cell_type": "code",
      "source": [
        "# print(augmented_images[0])\n",
        "for i in range(len(augmented_images)):\n",
        "    plt.subplot(2, 3, i+1)\n",
        "    plt.imshow(augmented_images[i][0].astype('uint8'), cmap='gray')\n",
        "    plt.axis('off')\n",
        "plt.show()"
      ],
      "metadata": {
        "colab": {
          "base_uri": "https://localhost:8080/",
          "height": 182
        },
        "id": "AYR06Fpf5osQ",
        "outputId": "c26dba03-db14-46c0-a6f0-b3c91d2b6bf8"
      },
      "execution_count": null,
      "outputs": [
        {
          "output_type": "display_data",
          "data": {
            "text/plain": [
              "<Figure size 640x480 with 2 Axes>"
            ],
            "image/png": "[encoded data removed]"
          },
          "metadata": {}
        }
      ]
    },
    {
      "cell_type": "markdown",
      "source": [
        "**Модель**"
      ],
      "metadata": {
        "id": "G12qimHkoT3k"
      }
    },
    {
      "cell_type": "code",
      "source": [
        "input_shape=(224, 224, 3)\n",
        "\n",
        "inputs = tf.keras.Input(shape=input_shape)\n",
        "\n",
        "x = layers.Conv2D(32, (3, 3), activation='relu', padding='same')(inputs)\n",
        "x = layers.MaxPooling2D(pool_size=(2, 2))(x)\n",
        "\n",
        "x = layers.Conv2D(64, (3, 3), activation='relu', padding='same',  kernel_regularizer=regularizers.l2(0.001))(x)\n",
        "x = layers.MaxPooling2D(pool_size=(2, 2))(x)\n",
        "\n",
        "x = layers.Flatten()(x)\n",
        "\n",
        "x = layers.Dense(128, activation='relu')(x)\n",
        "outputs = layers.Dense(10, activation='softmax')(x)\n",
        "\n",
        "model = Model(inputs=inputs, outputs=outputs)\n",
        "\n",
        "model.summary()\n",
        "\n",
        "# Компиляция модели\n",
        "model.compile(loss='categorical_crossentropy', optimizer='adam', metrics=['accuracy'])"
      ],
      "metadata": {
        "colab": {
          "base_uri": "https://localhost:8080/",
          "height": 385
        },
        "id": "q6p0kOVdoQKk",
        "outputId": "e34a08b5-6e47-4be1-cffb-b26c6be5a795"
      },
      "execution_count": null,
      "outputs": [
        {
          "output_type": "display_data",
          "data": {
            "text/plain": [
              "\u001b[1mModel: \"functional\"\u001b[0m\n"
            ],
            "text/html": [
              "<pre style=\"white-space:pre;overflow-x:auto;line-height:normal;font-family:Menlo,'DejaVu Sans Mono',consolas,'Courier New',monospace\"><span style=\"font-weight: bold\">Model: \"functional\"</span>\n",
              "</pre>\n"
            ]
          },
          "metadata": {}
        },
        {
          "output_type": "display_data",
          "data": {
            "text/plain": [
              "┏━━━━━━━━━━━━━━━━━━━━━━━━━━━━━━━━━━━━━━┳━━━━━━━━━━━━━━━━━━━━━━━━━━━━━┳━━━━━━━━━━━━━━━━━┓\n",
              "┃\u001b[1m \u001b[0m\u001b[1mLayer (type)                        \u001b[0m\u001b[1m \u001b[0m┃\u001b[1m \u001b[0m\u001b[1mOutput Shape               \u001b[0m\u001b[1m \u001b[0m┃\u001b[1m \u001b[0m\u001b[1m        Param #\u001b[0m\u001b[1m \u001b[0m┃\n",
              "┡━━━━━━━━━━━━━━━━━━━━━━━━━━━━━━━━━━━━━━╇━━━━━━━━━━━━━━━━━━━━━━━━━━━━━╇━━━━━━━━━━━━━━━━━┩\n",
              "│ input_layer (\u001b[38;5;33mInputLayer\u001b[0m)             │ (\u001b[38;5;45mNone\u001b[0m, \u001b[38;5;34m224\u001b[0m, \u001b[38;5;34m224\u001b[0m, \u001b[38;5;34m3\u001b[0m)         │               \u001b[38;5;34m0\u001b[0m │\n",
              "├──────────────────────────────────────┼─────────────────────────────┼─────────────────┤\n",
              "│ conv2d (\u001b[38;5;33mConv2D\u001b[0m)                      │ (\u001b[38;5;45mNone\u001b[0m, \u001b[38;5;34m224\u001b[0m, \u001b[38;5;34m224\u001b[0m, \u001b[38;5;34m32\u001b[0m)        │             \u001b[38;5;34m896\u001b[0m │\n",
              "├──────────────────────────────────────┼─────────────────────────────┼─────────────────┤\n",
              "│ max_pooling2d (\u001b[38;5;33mMaxPooling2D\u001b[0m)         │ (\u001b[38;5;45mNone\u001b[0m, \u001b[38;5;34m112\u001b[0m, \u001b[38;5;34m112\u001b[0m, \u001b[38;5;34m32\u001b[0m)        │               \u001b[38;5;34m0\u001b[0m │\n",
              "├──────────────────────────────────────┼─────────────────────────────┼─────────────────┤\n",
              "│ conv2d_1 (\u001b[38;5;33mConv2D\u001b[0m)                    │ (\u001b[38;5;45mNone\u001b[0m, \u001b[38;5;34m112\u001b[0m, \u001b[38;5;34m112\u001b[0m, \u001b[38;5;34m64\u001b[0m)        │          \u001b[38;5;34m18,496\u001b[0m │\n",
              "├──────────────────────────────────────┼─────────────────────────────┼─────────────────┤\n",
              "│ max_pooling2d_1 (\u001b[38;5;33mMaxPooling2D\u001b[0m)       │ (\u001b[38;5;45mNone\u001b[0m, \u001b[38;5;34m56\u001b[0m, \u001b[38;5;34m56\u001b[0m, \u001b[38;5;34m64\u001b[0m)          │               \u001b[38;5;34m0\u001b[0m │\n",
              "├──────────────────────────────────────┼─────────────────────────────┼─────────────────┤\n",
              "│ flatten (\u001b[38;5;33mFlatten\u001b[0m)                    │ (\u001b[38;5;45mNone\u001b[0m, \u001b[38;5;34m200704\u001b[0m)              │               \u001b[38;5;34m0\u001b[0m │\n",
              "├──────────────────────────────────────┼─────────────────────────────┼─────────────────┤\n",
              "│ dense (\u001b[38;5;33mDense\u001b[0m)                        │ (\u001b[38;5;45mNone\u001b[0m, \u001b[38;5;34m128\u001b[0m)                 │      \u001b[38;5;34m25,690,240\u001b[0m │\n",
              "├──────────────────────────────────────┼─────────────────────────────┼─────────────────┤\n",
              "│ dense_1 (\u001b[38;5;33mDense\u001b[0m)                      │ (\u001b[38;5;45mNone\u001b[0m, \u001b[38;5;34m10\u001b[0m)                  │           \u001b[38;5;34m1,290\u001b[0m │\n",
              "└──────────────────────────────────────┴─────────────────────────────┴─────────────────┘\n"
            ],
            "text/html": [
              "<pre style=\"white-space:pre;overflow-x:auto;line-height:normal;font-family:Menlo,'DejaVu Sans Mono',consolas,'Courier New',monospace\">┏━━━━━━━━━━━━━━━━━━━━━━━━━━━━━━━━━━━━━━┳━━━━━━━━━━━━━━━━━━━━━━━━━━━━━┳━━━━━━━━━━━━━━━━━┓\n",
              "┃<span style=\"font-weight: bold\"> Layer (type)                         </span>┃<span style=\"font-weight: bold\"> Output Shape                </span>┃<span style=\"font-weight: bold\">         Param # </span>┃\n",
              "┡━━━━━━━━━━━━━━━━━━━━━━━━━━━━━━━━━━━━━━╇━━━━━━━━━━━━━━━━━━━━━━━━━━━━━╇━━━━━━━━━━━━━━━━━┩\n",
              "│ input_layer (<span style=\"color: #0087ff; text-decoration-color: #0087ff\">InputLayer</span>)             │ (<span style=\"color: #00d7ff; text-decoration-color: #00d7ff\">None</span>, <span style=\"color: #00af00; text-decoration-color: #00af00\">224</span>, <span style=\"color: #00af00; text-decoration-color: #00af00\">224</span>, <span style=\"color: #00af00; text-decoration-color: #00af00\">3</span>)         │               <span style=\"color: #00af00; text-decoration-color: #00af00\">0</span> │\n",
              "├──────────────────────────────────────┼─────────────────────────────┼─────────────────┤\n",
              "│ conv2d (<span style=\"color: #0087ff; text-decoration-color: #0087ff\">Conv2D</span>)                      │ (<span style=\"color: #00d7ff; text-decoration-color: #00d7ff\">None</span>, <span style=\"color: #00af00; text-decoration-color: #00af00\">224</span>, <span style=\"color: #00af00; text-decoration-color: #00af00\">224</span>, <span style=\"color: #00af00; text-decoration-color: #00af00\">32</span>)        │             <span style=\"color: #00af00; text-decoration-color: #00af00\">896</span> │\n",
              "├──────────────────────────────────────┼─────────────────────────────┼─────────────────┤\n",
              "│ max_pooling2d (<span style=\"color: #0087ff; text-decoration-color: #0087ff\">MaxPooling2D</span>)         │ (<span style=\"color: #00d7ff; text-decoration-color: #00d7ff\">None</span>, <span style=\"color: #00af00; text-decoration-color: #00af00\">112</span>, <span style=\"color: #00af00; text-decoration-color: #00af00\">112</span>, <span style=\"color: #00af00; text-decoration-color: #00af00\">32</span>)        │               <span style=\"color: #00af00; text-decoration-color: #00af00\">0</span> │\n",
              "├──────────────────────────────────────┼─────────────────────────────┼─────────────────┤\n",
              "│ conv2d_1 (<span style=\"color: #0087ff; text-decoration-color: #0087ff\">Conv2D</span>)                    │ (<span style=\"color: #00d7ff; text-decoration-color: #00d7ff\">None</span>, <span style=\"color: #00af00; text-decoration-color: #00af00\">112</span>, <span style=\"color: #00af00; text-decoration-color: #00af00\">112</span>, <span style=\"color: #00af00; text-decoration-color: #00af00\">64</span>)        │          <span style=\"color: #00af00; text-decoration-color: #00af00\">18,496</span> │\n",
              "├──────────────────────────────────────┼─────────────────────────────┼─────────────────┤\n",
              "│ max_pooling2d_1 (<span style=\"color: #0087ff; text-decoration-color: #0087ff\">MaxPooling2D</span>)       │ (<span style=\"color: #00d7ff; text-decoration-color: #00d7ff\">None</span>, <span style=\"color: #00af00; text-decoration-color: #00af00\">56</span>, <span style=\"color: #00af00; text-decoration-color: #00af00\">56</span>, <span style=\"color: #00af00; text-decoration-color: #00af00\">64</span>)          │               <span style=\"color: #00af00; text-decoration-color: #00af00\">0</span> │\n",
              "├──────────────────────────────────────┼─────────────────────────────┼─────────────────┤\n",
              "│ flatten (<span style=\"color: #0087ff; text-decoration-color: #0087ff\">Flatten</span>)                    │ (<span style=\"color: #00d7ff; text-decoration-color: #00d7ff\">None</span>, <span style=\"color: #00af00; text-decoration-color: #00af00\">200704</span>)              │               <span style=\"color: #00af00; text-decoration-color: #00af00\">0</span> │\n",
              "├──────────────────────────────────────┼─────────────────────────────┼─────────────────┤\n",
              "│ dense (<span style=\"color: #0087ff; text-decoration-color: #0087ff\">Dense</span>)                        │ (<span style=\"color: #00d7ff; text-decoration-color: #00d7ff\">None</span>, <span style=\"color: #00af00; text-decoration-color: #00af00\">128</span>)                 │      <span style=\"color: #00af00; text-decoration-color: #00af00\">25,690,240</span> │\n",
              "├──────────────────────────────────────┼─────────────────────────────┼─────────────────┤\n",
              "│ dense_1 (<span style=\"color: #0087ff; text-decoration-color: #0087ff\">Dense</span>)                      │ (<span style=\"color: #00d7ff; text-decoration-color: #00d7ff\">None</span>, <span style=\"color: #00af00; text-decoration-color: #00af00\">10</span>)                  │           <span style=\"color: #00af00; text-decoration-color: #00af00\">1,290</span> │\n",
              "└──────────────────────────────────────┴─────────────────────────────┴─────────────────┘\n",
              "</pre>\n"
            ]
          },
          "metadata": {}
        },
        {
          "output_type": "display_data",
          "data": {
            "text/plain": [
              "\u001b[1m Total params: \u001b[0m\u001b[38;5;34m25,710,922\u001b[0m (98.08 MB)\n"
            ],
            "text/html": [
              "<pre style=\"white-space:pre;overflow-x:auto;line-height:normal;font-family:Menlo,'DejaVu Sans Mono',consolas,'Courier New',monospace\"><span style=\"font-weight: bold\"> Total params: </span><span style=\"color: #00af00; text-decoration-color: #00af00\">25,710,922</span> (98.08 MB)\n",
              "</pre>\n"
            ]
          },
          "metadata": {}
        },
        {
          "output_type": "display_data",
          "data": {
            "text/plain": [
              "\u001b[1m Trainable params: \u001b[0m\u001b[38;5;34m25,710,922\u001b[0m (98.08 MB)\n"
            ],
            "text/html": [
              "<pre style=\"white-space:pre;overflow-x:auto;line-height:normal;font-family:Menlo,'DejaVu Sans Mono',consolas,'Courier New',monospace\"><span style=\"font-weight: bold\"> Trainable params: </span><span style=\"color: #00af00; text-decoration-color: #00af00\">25,710,922</span> (98.08 MB)\n",
              "</pre>\n"
            ]
          },
          "metadata": {}
        },
        {
          "output_type": "display_data",
          "data": {
            "text/plain": [
              "\u001b[1m Non-trainable params: \u001b[0m\u001b[38;5;34m0\u001b[0m (0.00 B)\n"
            ],
            "text/html": [
              "<pre style=\"white-space:pre;overflow-x:auto;line-height:normal;font-family:Menlo,'DejaVu Sans Mono',consolas,'Courier New',monospace\"><span style=\"font-weight: bold\"> Non-trainable params: </span><span style=\"color: #00af00; text-decoration-color: #00af00\">0</span> (0.00 B)\n",
              "</pre>\n"
            ]
          },
          "metadata": {}
        }
      ]
    },
    {
      "cell_type": "code",
      "source": [
        "path = '{epoch:02d}.weights.h5'\n",
        "model_checkpoint = ModelCheckpoint(filepath=path,\n",
        "                                    monitor=\"val_loss\",\n",
        "                                    verbose=0,\n",
        "                                    save_best_only=True,\n",
        "                                    save_weights_only=True,\n",
        "                                    )"
      ],
      "metadata": {
        "id": "D1TcN0WdsesH"
      },
      "execution_count": null,
      "outputs": []
    },
    {
      "cell_type": "code",
      "source": [
        "history = model.fit(x_train_img, y_train_img, batch_size=32, epochs=40, validation_split=0.2, callbacks=model_checkpoint)"
      ],
      "metadata": {
        "colab": {
          "base_uri": "https://localhost:8080/"
        },
        "id": "5zFhY7NYaf8h",
        "outputId": "d11a00bc-3de9-4f43-fb62-1b90d7e59aaf"
      },
      "execution_count": null,
      "outputs": [
        {
          "output_type": "stream",
          "name": "stdout",
          "text": [
            "Epoch 1/40\n",
            "\u001b[1m125/125\u001b[0m \u001b[32m━━━━━━━━━━━━━━━━━━━━\u001b[0m\u001b[37m\u001b[0m \u001b[1m27s\u001b[0m 161ms/step - accuracy: 0.2768 - loss: 3.2350 - val_accuracy: 0.4570 - val_loss: 1.3980\n",
            "Epoch 2/40\n",
            "\u001b[1m125/125\u001b[0m \u001b[32m━━━━━━━━━━━━━━━━━━━━\u001b[0m\u001b[37m\u001b[0m \u001b[1m37s\u001b[0m 174ms/step - accuracy: 0.4950 - loss: 1.3273 - val_accuracy: 0.4660 - val_loss: 1.2676\n",
            "Epoch 3/40\n",
            "\u001b[1m125/125\u001b[0m \u001b[32m━━━━━━━━━━━━━━━━━━━━\u001b[0m\u001b[37m\u001b[0m \u001b[1m47s\u001b[0m 227ms/step - accuracy: 0.6118 - loss: 1.0025 - val_accuracy: 0.7630 - val_loss: 0.6114\n",
            "Epoch 4/40\n",
            "\u001b[1m125/125\u001b[0m \u001b[32m━━━━━━━━━━━━━━━━━━━━\u001b[0m\u001b[37m\u001b[0m \u001b[1m20s\u001b[0m 55ms/step - accuracy: 0.7704 - loss: 0.6113 - val_accuracy: 0.7110 - val_loss: 0.7123\n",
            "Epoch 5/40\n",
            "\u001b[1m125/125\u001b[0m \u001b[32m━━━━━━━━━━━━━━━━━━━━\u001b[0m\u001b[37m\u001b[0m \u001b[1m31s\u001b[0m 225ms/step - accuracy: 0.7890 - loss: 0.5492 - val_accuracy: 0.7980 - val_loss: 0.5422\n",
            "Epoch 6/40\n",
            "\u001b[1m125/125\u001b[0m \u001b[32m━━━━━━━━━━━━━━━━━━━━\u001b[0m\u001b[37m\u001b[0m \u001b[1m35s\u001b[0m 280ms/step - accuracy: 0.8231 - loss: 0.4618 - val_accuracy: 0.8290 - val_loss: 0.4652\n",
            "Epoch 7/40\n",
            "\u001b[1m125/125\u001b[0m \u001b[32m━━━━━━━━━━━━━━━━━━━━\u001b[0m\u001b[37m\u001b[0m \u001b[1m43s\u001b[0m 297ms/step - accuracy: 0.8469 - loss: 0.4057 - val_accuracy: 0.8400 - val_loss: 0.3981\n",
            "Epoch 8/40\n",
            "\u001b[1m125/125\u001b[0m \u001b[32m━━━━━━━━━━━━━━━━━━━━\u001b[0m\u001b[37m\u001b[0m \u001b[1m38s\u001b[0m 273ms/step - accuracy: 0.8774 - loss: 0.3290 - val_accuracy: 0.8830 - val_loss: 0.3039\n",
            "Epoch 9/40\n",
            "\u001b[1m125/125\u001b[0m \u001b[32m━━━━━━━━━━━━━━━━━━━━\u001b[0m\u001b[37m\u001b[0m \u001b[1m13s\u001b[0m 49ms/step - accuracy: 0.8936 - loss: 0.2922 - val_accuracy: 0.8310 - val_loss: 0.3964\n",
            "Epoch 10/40\n",
            "\u001b[1m125/125\u001b[0m \u001b[32m━━━━━━━━━━━━━━━━━━━━\u001b[0m\u001b[37m\u001b[0m \u001b[1m6s\u001b[0m 47ms/step - accuracy: 0.9168 - loss: 0.2670 - val_accuracy: 0.8380 - val_loss: 0.4387\n",
            "Epoch 11/40\n",
            "\u001b[1m125/125\u001b[0m \u001b[32m━━━━━━━━━━━━━━━━━━━━\u001b[0m\u001b[37m\u001b[0m \u001b[1m6s\u001b[0m 51ms/step - accuracy: 0.8892 - loss: 0.3275 - val_accuracy: 0.8770 - val_loss: 0.3680\n",
            "Epoch 12/40\n",
            "\u001b[1m125/125\u001b[0m \u001b[32m━━━━━━━━━━━━━━━━━━━━\u001b[0m\u001b[37m\u001b[0m \u001b[1m7s\u001b[0m 52ms/step - accuracy: 0.9297 - loss: 0.2442 - val_accuracy: 0.8710 - val_loss: 0.3442\n",
            "Epoch 13/40\n",
            "\u001b[1m125/125\u001b[0m \u001b[32m━━━━━━━━━━━━━━━━━━━━\u001b[0m\u001b[37m\u001b[0m \u001b[1m37s\u001b[0m 267ms/step - accuracy: 0.9286 - loss: 0.2154 - val_accuracy: 0.9100 - val_loss: 0.2518\n",
            "Epoch 14/40\n",
            "\u001b[1m125/125\u001b[0m \u001b[32m━━━━━━━━━━━━━━━━━━━━\u001b[0m\u001b[37m\u001b[0m \u001b[1m47s\u001b[0m 316ms/step - accuracy: 0.9469 - loss: 0.1771 - val_accuracy: 0.9400 - val_loss: 0.1891\n",
            "Epoch 15/40\n",
            "\u001b[1m125/125\u001b[0m \u001b[32m━━━━━━━━━━━━━━━━━━━━\u001b[0m\u001b[37m\u001b[0m \u001b[1m6s\u001b[0m 49ms/step - accuracy: 0.9570 - loss: 0.1504 - val_accuracy: 0.9360 - val_loss: 0.1959\n",
            "Epoch 16/40\n",
            "\u001b[1m125/125\u001b[0m \u001b[32m━━━━━━━━━━━━━━━━━━━━\u001b[0m\u001b[37m\u001b[0m \u001b[1m41s\u001b[0m 297ms/step - accuracy: 0.9592 - loss: 0.1396 - val_accuracy: 0.9460 - val_loss: 0.1612\n",
            "Epoch 17/40\n",
            "\u001b[1m125/125\u001b[0m \u001b[32m━━━━━━━━━━━━━━━━━━━━\u001b[0m\u001b[37m\u001b[0m \u001b[1m10s\u001b[0m 49ms/step - accuracy: 0.9437 - loss: 0.1866 - val_accuracy: 0.9290 - val_loss: 0.2360\n",
            "Epoch 18/40\n",
            "\u001b[1m125/125\u001b[0m \u001b[32m━━━━━━━━━━━━━━━━━━━━\u001b[0m\u001b[37m\u001b[0m \u001b[1m10s\u001b[0m 49ms/step - accuracy: 0.9568 - loss: 0.1682 - val_accuracy: 0.9520 - val_loss: 0.1659\n",
            "Epoch 19/40\n",
            "\u001b[1m125/125\u001b[0m \u001b[32m━━━━━━━━━━━━━━━━━━━━\u001b[0m\u001b[37m\u001b[0m \u001b[1m10s\u001b[0m 48ms/step - accuracy: 0.9744 - loss: 0.1019 - val_accuracy: 0.9390 - val_loss: 0.1939\n",
            "Epoch 20/40\n",
            "\u001b[1m125/125\u001b[0m \u001b[32m━━━━━━━━━━━━━━━━━━━━\u001b[0m\u001b[37m\u001b[0m \u001b[1m52s\u001b[0m 384ms/step - accuracy: 0.9420 - loss: 0.1897 - val_accuracy: 0.9650 - val_loss: 0.1327\n",
            "Epoch 21/40\n",
            "\u001b[1m125/125\u001b[0m \u001b[32m━━━━━━━━━━━━━━━━━━━━\u001b[0m\u001b[37m\u001b[0m \u001b[1m84s\u001b[0m 402ms/step - accuracy: 0.9756 - loss: 0.1056 - val_accuracy: 0.9700 - val_loss: 0.1176\n",
            "Epoch 22/40\n",
            "\u001b[1m125/125\u001b[0m \u001b[32m━━━━━━━━━━━━━━━━━━━━\u001b[0m\u001b[37m\u001b[0m \u001b[1m44s\u001b[0m 357ms/step - accuracy: 0.9820 - loss: 0.0809 - val_accuracy: 0.9690 - val_loss: 0.1155\n",
            "Epoch 23/40\n",
            "\u001b[1m125/125\u001b[0m \u001b[32m━━━━━━━━━━━━━━━━━━━━\u001b[0m\u001b[37m\u001b[0m \u001b[1m43s\u001b[0m 47ms/step - accuracy: 0.9859 - loss: 0.0760 - val_accuracy: 0.9640 - val_loss: 0.1328\n",
            "Epoch 24/40\n",
            "\u001b[1m125/125\u001b[0m \u001b[32m━━━━━━━━━━━━━━━━━━━━\u001b[0m\u001b[37m\u001b[0m \u001b[1m45s\u001b[0m 324ms/step - accuracy: 0.9854 - loss: 0.0644 - val_accuracy: 0.9720 - val_loss: 0.0904\n",
            "Epoch 25/40\n",
            "\u001b[1m125/125\u001b[0m \u001b[32m━━━━━━━━━━━━━━━━━━━━\u001b[0m\u001b[37m\u001b[0m \u001b[1m7s\u001b[0m 48ms/step - accuracy: 0.9901 - loss: 0.0554 - val_accuracy: 0.9690 - val_loss: 0.1091\n",
            "Epoch 26/40\n",
            "\u001b[1m125/125\u001b[0m \u001b[32m━━━━━━━━━━━━━━━━━━━━\u001b[0m\u001b[37m\u001b[0m \u001b[1m6s\u001b[0m 48ms/step - accuracy: 0.9757 - loss: 0.0999 - val_accuracy: 0.9730 - val_loss: 0.1006\n",
            "Epoch 27/40\n",
            "\u001b[1m125/125\u001b[0m \u001b[32m━━━━━━━━━━━━━━━━━━━━\u001b[0m\u001b[37m\u001b[0m \u001b[1m10s\u001b[0m 50ms/step - accuracy: 0.9910 - loss: 0.0573 - val_accuracy: 0.9730 - val_loss: 0.1055\n",
            "Epoch 28/40\n",
            "\u001b[1m125/125\u001b[0m \u001b[32m━━━━━━━━━━━━━━━━━━━━\u001b[0m\u001b[37m\u001b[0m \u001b[1m41s\u001b[0m 327ms/step - accuracy: 0.9807 - loss: 0.0744 - val_accuracy: 0.9780 - val_loss: 0.0837\n",
            "Epoch 29/40\n",
            "\u001b[1m125/125\u001b[0m \u001b[32m━━━━━━━━━━━━━━━━━━━━\u001b[0m\u001b[37m\u001b[0m \u001b[1m7s\u001b[0m 49ms/step - accuracy: 0.9936 - loss: 0.0420 - val_accuracy: 0.9570 - val_loss: 0.1609\n",
            "Epoch 30/40\n",
            "\u001b[1m125/125\u001b[0m \u001b[32m━━━━━━━━━━━━━━━━━━━━\u001b[0m\u001b[37m\u001b[0m \u001b[1m10s\u001b[0m 47ms/step - accuracy: 0.9748 - loss: 0.0996 - val_accuracy: 0.9750 - val_loss: 0.1007\n",
            "Epoch 31/40\n",
            "\u001b[1m125/125\u001b[0m \u001b[32m━━━━━━━━━━━━━━━━━━━━\u001b[0m\u001b[37m\u001b[0m \u001b[1m10s\u001b[0m 47ms/step - accuracy: 0.9903 - loss: 0.0521 - val_accuracy: 0.9640 - val_loss: 0.1375\n",
            "Epoch 32/40\n",
            "\u001b[1m125/125\u001b[0m \u001b[32m━━━━━━━━━━━━━━━━━━━━\u001b[0m\u001b[37m\u001b[0m \u001b[1m11s\u001b[0m 50ms/step - accuracy: 0.9899 - loss: 0.0548 - val_accuracy: 0.9790 - val_loss: 0.0859\n",
            "Epoch 33/40\n",
            "\u001b[1m125/125\u001b[0m \u001b[32m━━━━━━━━━━━━━━━━━━━━\u001b[0m\u001b[37m\u001b[0m \u001b[1m6s\u001b[0m 46ms/step - accuracy: 0.9875 - loss: 0.0587 - val_accuracy: 0.9800 - val_loss: 0.0976\n",
            "Epoch 34/40\n",
            "\u001b[1m125/125\u001b[0m \u001b[32m━━━━━━━━━━━━━━━━━━━━\u001b[0m\u001b[37m\u001b[0m \u001b[1m46s\u001b[0m 332ms/step - accuracy: 0.9958 - loss: 0.0396 - val_accuracy: 0.9830 - val_loss: 0.0761\n",
            "Epoch 35/40\n",
            "\u001b[1m125/125\u001b[0m \u001b[32m━━━━━━━━━━━━━━━━━━━━\u001b[0m\u001b[37m\u001b[0m \u001b[1m47s\u001b[0m 51ms/step - accuracy: 0.9959 - loss: 0.0317 - val_accuracy: 0.9800 - val_loss: 0.0950\n",
            "Epoch 36/40\n",
            "\u001b[1m125/125\u001b[0m \u001b[32m━━━━━━━━━━━━━━━━━━━━\u001b[0m\u001b[37m\u001b[0m \u001b[1m10s\u001b[0m 47ms/step - accuracy: 0.9874 - loss: 0.0589 - val_accuracy: 0.9810 - val_loss: 0.0793\n",
            "Epoch 37/40\n",
            "\u001b[1m125/125\u001b[0m \u001b[32m━━━━━━━━━━━━━━━━━━━━\u001b[0m\u001b[37m\u001b[0m \u001b[1m48s\u001b[0m 350ms/step - accuracy: 0.9937 - loss: 0.0382 - val_accuracy: 0.9840 - val_loss: 0.0724\n",
            "Epoch 38/40\n",
            "\u001b[1m125/125\u001b[0m \u001b[32m━━━━━━━━━━━━━━━━━━━━\u001b[0m\u001b[37m\u001b[0m \u001b[1m91s\u001b[0m 427ms/step - accuracy: 0.9989 - loss: 0.0267 - val_accuracy: 0.9830 - val_loss: 0.0664\n",
            "Epoch 39/40\n",
            "\u001b[1m125/125\u001b[0m \u001b[32m━━━━━━━━━━━━━━━━━━━━\u001b[0m\u001b[37m\u001b[0m \u001b[1m35s\u001b[0m 47ms/step - accuracy: 0.9996 - loss: 0.0216 - val_accuracy: 0.9810 - val_loss: 0.0729\n",
            "Epoch 40/40\n",
            "\u001b[1m125/125\u001b[0m \u001b[32m━━━━━━━━━━━━━━━━━━━━\u001b[0m\u001b[37m\u001b[0m \u001b[1m10s\u001b[0m 48ms/step - accuracy: 0.9974 - loss: 0.0268 - val_accuracy: 0.9800 - val_loss: 0.0840\n"
          ]
        }
      ]
    },
    {
      "cell_type": "code",
      "source": [
        "model.save('/content/gdrive/MyDrive/Colab Notebooks/ML/Model3(0.001).keras')"
      ],
      "metadata": {
        "id": "x-5ec_jaF5bP"
      },
      "execution_count": null,
      "outputs": []
    },
    {
      "cell_type": "code",
      "source": [
        "model = load_model('/content/gdrive/MyDrive/Colab Notebooks/ML/Model2_cont.keras')"
      ],
      "metadata": {
        "id": "zYFi-Dgv15-V"
      },
      "execution_count": null,
      "outputs": []
    },
    {
      "cell_type": "code",
      "source": [
        "# model.load_weights('/content/gdrive/MyDrive/Colab Notebooks/ML/Model3_37.weights.h5')\n",
        "model.load_weights('/content/28.weights.h5')"
      ],
      "metadata": {
        "id": "Nw65lNHvFxsZ"
      },
      "execution_count": null,
      "outputs": []
    },
    {
      "cell_type": "code",
      "source": [
        "from tensorflow.keras import metrics\n",
        "\n",
        "loss, accuracy = model.evaluate(x_test_img, y_test_img, verbose=0)\n",
        "print('Точность на тестовых данных: {}'.format(accuracy))"
      ],
      "metadata": {
        "colab": {
          "base_uri": "https://localhost:8080/"
        },
        "id": "3KYU5lFIH2Ij",
        "outputId": "635cd12e-f2bf-46e5-d51e-ac2bc2965352"
      },
      "execution_count": null,
      "outputs": [
        {
          "output_type": "stream",
          "name": "stdout",
          "text": [
            "Точность на тестовых данных: 0.925000011920929\n"
          ]
        }
      ]
    },
    {
      "cell_type": "code",
      "source": [
        "#тест по одиночке\n",
        "pp = '/content/gdrive/MyDrive/Colab Notebooks/ML/test/10'\n",
        "\n",
        "picture = 3\n",
        "arr = []\n",
        "for image in os.listdir(pp):\n",
        "    arr.append(image)\n",
        "\n",
        "img = cv2.imread(pp + \"/\" + arr[picture])\n",
        "img = cv2.resize(img, (224, 224))\n",
        "img = cv2.cvtColor(img, cv2.COLOR_BGR2RGB)\n",
        "\n",
        "np_img = np.array(img)\n",
        "np_img = np_img / 255\n",
        "np_img = np_img.reshape((1,) + np_img.shape)\n",
        "\n",
        "predictions = model.predict(np_img)\n",
        "# predicted_classes = tf.argmax(predictions, axis=1)\n",
        "\n",
        "# print(\"Предсказанные классы >> \", predicted_classes)\n",
        "print(np.around(predictions, 3))"
      ],
      "metadata": {
        "colab": {
          "base_uri": "https://localhost:8080/"
        },
        "id": "lmyct3XSAf0l",
        "outputId": "dd97952e-8987-4fed-a92d-185e694bf2d3"
      },
      "execution_count": null,
      "outputs": [
        {
          "output_type": "stream",
          "name": "stdout",
          "text": [
            "\u001b[1m1/1\u001b[0m \u001b[32m━━━━━━━━━━━━━━━━━━━━\u001b[0m\u001b[37m\u001b[0m \u001b[1m0s\u001b[0m 191ms/step\n",
            "[[0.    0.    0.    0.    0.    0.    0.    0.    0.029 0.971]]\n"
          ]
        }
      ]
    },
    {
      "cell_type": "code",
      "source": [
        "predictions = model.predict(x_test_img)\n",
        "print(\"Правильные ответы >> \", tf.argmax(y_test_img, axis=1))\n",
        "# print(y_test_img)\n",
        "# print(predictions)\n",
        "predicted_classes = tf.argmax(predictions, axis=1)\n",
        "print(\"Предсказанные классы >> \", predicted_classes)"
      ],
      "metadata": {
        "colab": {
          "base_uri": "https://localhost:8080/"
        },
        "id": "D_QixJBdGe9a",
        "outputId": "f276114c-b48e-4704-a85e-2b61735bdcd7"
      },
      "execution_count": null,
      "outputs": [
        {
          "output_type": "stream",
          "name": "stdout",
          "text": [
            "\u001b[1m2/2\u001b[0m \u001b[32m━━━━━━━━━━━━━━━━━━━━\u001b[0m\u001b[37m\u001b[0m \u001b[1m0s\u001b[0m 16ms/step\n",
            "Правильные ответы >>  tf.Tensor(\n",
            "[7 7 2 4 3 3 5 4 4 9 9 6 6 1 0 7 1 8 7 8 2 5 0 2 8 9 9 6 3 1 5 4 5 3 8 0 0\n",
            " 1 6 2], shape=(40,), dtype=int64)\n",
            "Предсказанные классы >>  tf.Tensor(\n",
            "[7 7 2 4 3 2 5 4 4 9 9 6 6 1 0 7 0 8 7 8 2 5 0 2 8 9 9 6 3 1 5 4 5 3 7 0 0\n",
            " 1 6 2], shape=(40,), dtype=int64)\n"
          ]
        }
      ]
    },
    {
      "cell_type": "code",
      "source": [
        "acc = history.history['accuracy']\n",
        "val_acc = history.history['val_accuracy']\n",
        "\n",
        "loss = history.history['loss']\n",
        "val_loss = history.history['val_loss']\n",
        "\n",
        "epochs_range = range(40)\n",
        "\n",
        "plt.figure(figsize=(8, 8))\n",
        "plt.subplot(1, 2, 1)\n",
        "plt.plot(epochs_range, acc, label='Training Accuracy')\n",
        "plt.plot(epochs_range, val_acc, label='Validation Accuracy')\n",
        "plt.legend(loc='lower right')\n",
        "plt.title('Training and Validation accuracy')\n",
        "\n",
        "plt.subplot(1, 2, 2)\n",
        "plt.plot(epochs_range, loss, label='Training Loss')\n",
        "plt.plot(epochs_range, val_loss, label='Validation Loss')\n",
        "plt.legend(loc='upper right')\n",
        "plt.title('Training and Validation Loss')\n",
        "plt.savefig(\"3_Training and Validation Accuracy and Loss.png\", dpi=150)\n",
        "plt.show()"
      ],
      "metadata": {
        "colab": {
          "base_uri": "https://localhost:8080/",
          "height": 699
        },
        "id": "Jq1qSNk1pMOr",
        "outputId": "cca32305-34de-4747-919d-ac6b875b1a6a"
      },
      "execution_count": null,
      "outputs": [
        {
          "output_type": "display_data",
          "data": {
            "text/plain": [
              "<Figure size 800x800 with 2 Axes>"
            ],
            "image/png": "[encoded data removed]"
          },
          "metadata": {}
        }
      ]
    }
  ]
}